{
 "cells": [
  {
   "cell_type": "markdown",
   "metadata": {
    "id": "Pi9CF0391ARI"
   },
   "source": [
    "# Writing actions as code snippets or JSON blobs\n",
    "\n",
    "This notebook is part of the [Hugging Face Agents Course](https://www.hf.co/learn/agents-course), a free Course from beginner to expert, where you learn to build Agents.\n",
    "\n",
    "![Agents course share](https://huggingface.co/datasets/agents-course/course-images/resolve/main/en/communication/share.png)"
   ]
  },
  {
   "cell_type": "markdown",
   "metadata": {
    "id": "9gsYky7F1GzT"
   },
   "source": [
    "## Let's install the dependencies and login to our HF account to access the Inference API\n",
    "\n",
    "If you haven't installed `smolagents` yet, you can do so by running the following command:"
   ]
  },
  {
   "cell_type": "code",
   "execution_count": null,
   "metadata": {
    "id": "MoFopncp0pnJ"
   },
   "outputs": [],
   "source": [
    "# !pip install smolagents -U"
   ]
  },
  {
   "cell_type": "markdown",
   "metadata": {
    "id": "cH-4W1GhYL4T"
   },
   "source": [
    "Let's also login to the Hugging Face Hub to have access to the Inference API."
   ]
  },
  {
   "cell_type": "code",
   "execution_count": null,
   "metadata": {
    "id": "TFTc-ry70y1f"
   },
   "outputs": [],
   "source": [
    "# from huggingface_hub import notebook_login\n",
    "\n",
    "# notebook_login()"
   ]
  },
  {
   "cell_type": "markdown",
   "metadata": {
    "id": "ekKxaZrd1HlB"
   },
   "source": [
    "## Selecting a Playlist for the Party Using `smolagents` and a `ToolCallingAgent`\n",
    "\n",
    "Let's revisit the previous example where Alfred started party preparations, but this time we'll use a `ToolCallingAgent` to highlight the difference. We'll build an agent that can search the web using DuckDuckGo, just like in our Code Agent example. The only difference is the agent type - the framework handles everything else:"
   ]
  },
  {
   "cell_type": "code",
   "execution_count": null,
   "metadata": {
    "colab": {
     "base_uri": "https://localhost:8080/",
     "height": 1000
    },
    "id": "6IInDOUN01sP",
    "outputId": "e49f2360-d377-4ed8-b7ae-8da4a3e3757b"
   },
   "outputs": [
    {
     "data": {
      "text/html": [
       "<pre style=\"white-space:pre;overflow-x:auto;line-height:normal;font-family:Menlo,'DejaVu Sans Mono',consolas,'Courier New',monospace\"><span style=\"color: #d4b702; text-decoration-color: #d4b702\">╭──────────────────────────────────────────────────── </span><span style=\"color: #d4b702; text-decoration-color: #d4b702; font-weight: bold\">New run</span><span style=\"color: #d4b702; text-decoration-color: #d4b702\"> ────────────────────────────────────────────────────╮</span>\n",
       "<span style=\"color: #d4b702; text-decoration-color: #d4b702\">│</span>                                                                                                                 <span style=\"color: #d4b702; text-decoration-color: #d4b702\">│</span>\n",
       "<span style=\"color: #d4b702; text-decoration-color: #d4b702\">│</span> <span style=\"font-weight: bold\">Search for the best music recommendations for a party at the Wayne's mansion.</span>                                   <span style=\"color: #d4b702; text-decoration-color: #d4b702\">│</span>\n",
       "<span style=\"color: #d4b702; text-decoration-color: #d4b702\">│</span>                                                                                                                 <span style=\"color: #d4b702; text-decoration-color: #d4b702\">│</span>\n",
       "<span style=\"color: #d4b702; text-decoration-color: #d4b702\">╰─ LiteLLMModel - ollama_chat/qwen2.5-coder:7b-instruct-q4_K_M ───────────────────────────────────────────────────╯</span>\n",
       "</pre>\n"
      ],
      "text/plain": [
       "\u001b[38;2;212;183;2m╭─\u001b[0m\u001b[38;2;212;183;2m───────────────────────────────────────────────────\u001b[0m\u001b[38;2;212;183;2m \u001b[0m\u001b[1;38;2;212;183;2mNew run\u001b[0m\u001b[38;2;212;183;2m \u001b[0m\u001b[38;2;212;183;2m───────────────────────────────────────────────────\u001b[0m\u001b[38;2;212;183;2m─╮\u001b[0m\n",
       "\u001b[38;2;212;183;2m│\u001b[0m                                                                                                                 \u001b[38;2;212;183;2m│\u001b[0m\n",
       "\u001b[38;2;212;183;2m│\u001b[0m \u001b[1mSearch for the best music recommendations for a party at the Wayne's mansion.\u001b[0m                                   \u001b[38;2;212;183;2m│\u001b[0m\n",
       "\u001b[38;2;212;183;2m│\u001b[0m                                                                                                                 \u001b[38;2;212;183;2m│\u001b[0m\n",
       "\u001b[38;2;212;183;2m╰─\u001b[0m\u001b[38;2;212;183;2m LiteLLMModel - ollama_chat/qwen2.5-coder:7b-instruct-q4_K_M \u001b[0m\u001b[38;2;212;183;2m──────────────────────────────────────────────────\u001b[0m\u001b[38;2;212;183;2m─╯\u001b[0m\n"
      ]
     },
     "metadata": {},
     "output_type": "display_data"
    },
    {
     "data": {
      "text/html": [
       "<pre style=\"white-space:pre;overflow-x:auto;line-height:normal;font-family:Menlo,'DejaVu Sans Mono',consolas,'Courier New',monospace\"><span style=\"color: #d4b702; text-decoration-color: #d4b702\">━━━━━━━━━━━━━━━━━━━━━━━━━━━━━━━━━━━━━━━━━━━━━━━━━━━━━ </span><span style=\"font-weight: bold\">Step </span><span style=\"color: #008080; text-decoration-color: #008080; font-weight: bold\">1</span><span style=\"color: #d4b702; text-decoration-color: #d4b702\"> ━━━━━━━━━━━━━━━━━━━━━━━━━━━━━━━━━━━━━━━━━━━━━━━━━━━━━━</span>\n",
       "</pre>\n"
      ],
      "text/plain": [
       "\u001b[38;2;212;183;2m━━━━━━━━━━━━━━━━━━━━━━━━━━━━━━━━━━━━━━━━━━━━━━━━━━━━━ \u001b[0m\u001b[1mStep \u001b[0m\u001b[1;36m1\u001b[0m\u001b[38;2;212;183;2m ━━━━━━━━━━━━━━━━━━━━━━━━━━━━━━━━━━━━━━━━━━━━━━━━━━━━━━\u001b[0m\n"
      ]
     },
     "metadata": {},
     "output_type": "display_data"
    }
   ],
   "source": [
    "from smolagents import ToolCallingAgent, DuckDuckGoSearchTool, LiteLLMModel\n",
    "\n",
    "OLLAMA_MODEL_3B_Q4_K_M = \"qwen2.5-coder:3b-instruct-q4_K_M\"\n",
    "\n",
    "OLLAMA_MODEL_7B_Q4_K_M = \"qwen2.5-coder:7b-instruct-q4_K_M\"\n",
    "\n",
    "OLLAMA_MODEL_14B_Q4_K_M = \"qwen2.5-coder:14b-instruct-q4_K_M\"\n",
    "\n",
    "OLLAMA_MODEL_32B_Q4_0 = \"qwen2.5-coder:32b-instruct-q4_0\"\n",
    "OLLAMA_MODEL_32B_Q4_K_S = \"qwen2.5-coder:32b-instruct-q4_K_S\"\n",
    "OLLAMA_MODEL_32B_Q4_K_M = \"qwen2.5-coder:32b-instruct-q4_K_M\" # HfApiModel uses https://huggingface.co/Qwen/Qwen2.5-Coder-32B-Instruct\n",
    "\n",
    "MODEL_ID = \"/\".join([ \"ollama_chat\", OLLAMA_MODEL_7B_Q4_K_M ])\n",
    "\n",
    "lite_model = LiteLLMModel(\n",
    "    model_id=MODEL_ID,\n",
    "    api_base=\"http://localhost:11434\",\n",
    ")\n",
    "agent = ToolCallingAgent(\n",
    "    tools=[DuckDuckGoSearchTool(verify=False)],\n",
    "    model=lite_model,\n",
    "    max_steps=4,\n",
    ")\n",
    "\n",
    "agent.run(\"Search for the best music recommendations for a party at the Wayne's mansion.\")"
   ]
  },
  {
   "cell_type": "markdown",
   "metadata": {
    "id": "Cl19VWGRYXrr"
   },
   "source": [
    "\n",
    "When you examine the agent's trace, instead of seeing `Executing parsed code:`, you'll see something like:\n",
    "\n",
    "```text\n",
    "╭─────────────────────────────────────────────────────────────────────────────────────────────────────────────────╮\n",
    "│ Calling tool: 'web_search' with arguments: {'query': \"best music recommendations for a party at Wayne's         │\n",
    "│ mansion\"}                                                                                                       │\n",
    "╰─────────────────────────────────────────────────────────────────────────────────────────────────────────────────╯\n",
    "```  \n",
    "\n",
    "The agent generates a structured tool call that the system processes to produce the output, rather than directly executing code like a `CodeAgent`.\n",
    "\n",
    "Now that we understand both agent types, we can choose the right one for our needs. Let's continue exploring `smolagents` to make Alfred's party a success! 🎉"
   ]
  }
 ],
 "metadata": {
  "colab": {
   "provenance": []
  },
  "kernelspec": {
   "display_name": "hfenv",
   "language": "python",
   "name": "hfenv"
  },
  "language_info": {
   "codemirror_mode": {
    "name": "ipython",
    "version": 3
   },
   "file_extension": ".py",
   "mimetype": "text/x-python",
   "name": "python",
   "nbconvert_exporter": "python",
   "pygments_lexer": "ipython3",
   "version": "3.12.10"
  }
 },
 "nbformat": 4,
 "nbformat_minor": 4
}
