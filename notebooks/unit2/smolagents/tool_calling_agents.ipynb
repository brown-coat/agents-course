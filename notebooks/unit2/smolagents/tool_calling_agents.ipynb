{
 "cells": [
  {
   "cell_type": "markdown",
   "metadata": {
    "id": "Pi9CF0391ARI"
   },
   "source": [
    "# Writing actions as code snippets or JSON blobs\n",
    "\n",
    "This notebook is part of the [Hugging Face Agents Course](https://www.hf.co/learn/agents-course), a free Course from beginner to expert, where you learn to build Agents.\n",
    "\n",
    "![Agents course share](https://huggingface.co/datasets/agents-course/course-images/resolve/main/en/communication/share.png)"
   ]
  },
  {
   "cell_type": "markdown",
   "metadata": {
    "id": "9gsYky7F1GzT"
   },
   "source": [
    "## Let's install the dependencies and login to our HF account to access the Inference API\n",
    "\n",
    "If you haven't installed `smolagents` yet, you can do so by running the following command:"
   ]
  },
  {
   "cell_type": "code",
   "execution_count": 1,
   "metadata": {
    "id": "MoFopncp0pnJ"
   },
   "outputs": [],
   "source": [
    "# !pip install smolagents -U"
   ]
  },
  {
   "cell_type": "markdown",
   "metadata": {
    "id": "cH-4W1GhYL4T"
   },
   "source": [
    "Let's also login to the Hugging Face Hub to have access to the Inference API."
   ]
  },
  {
   "cell_type": "code",
   "execution_count": 2,
   "metadata": {
    "id": "TFTc-ry70y1f"
   },
   "outputs": [],
   "source": [
    "# from huggingface_hub import notebook_login\n",
    "\n",
    "# notebook_login()"
   ]
  },
  {
   "cell_type": "markdown",
   "metadata": {
    "id": "ekKxaZrd1HlB"
   },
   "source": [
    "## Selecting a Playlist for the Party Using `smolagents` and a `ToolCallingAgent`\n",
    "\n",
    "Let's revisit the previous example where Alfred started party preparations, but this time we'll use a `ToolCallingAgent` to highlight the difference. We'll build an agent that can search the web using DuckDuckGo, just like in our Code Agent example. The only difference is the agent type - the framework handles everything else:"
   ]
  },
  {
   "cell_type": "code",
   "execution_count": 3,
   "metadata": {
    "colab": {
     "base_uri": "https://localhost:8080/",
     "height": 1000
    },
    "id": "6IInDOUN01sP",
    "outputId": "e49f2360-d377-4ed8-b7ae-8da4a3e3757b"
   },
   "outputs": [
    {
     "data": {
      "text/html": [
       "<pre style=\"white-space:pre;overflow-x:auto;line-height:normal;font-family:Menlo,'DejaVu Sans Mono',consolas,'Courier New',monospace\"><span style=\"color: #d4b702; text-decoration-color: #d4b702\">╭──────────────────────────────────────────────────── </span><span style=\"color: #d4b702; text-decoration-color: #d4b702; font-weight: bold\">New run</span><span style=\"color: #d4b702; text-decoration-color: #d4b702\"> ────────────────────────────────────────────────────╮</span>\n",
       "<span style=\"color: #d4b702; text-decoration-color: #d4b702\">│</span>                                                                                                                 <span style=\"color: #d4b702; text-decoration-color: #d4b702\">│</span>\n",
       "<span style=\"color: #d4b702; text-decoration-color: #d4b702\">│</span> <span style=\"font-weight: bold\">Search for the best music recommendations for a party at the Wayne's mansion.</span>                                   <span style=\"color: #d4b702; text-decoration-color: #d4b702\">│</span>\n",
       "<span style=\"color: #d4b702; text-decoration-color: #d4b702\">│</span>                                                                                                                 <span style=\"color: #d4b702; text-decoration-color: #d4b702\">│</span>\n",
       "<span style=\"color: #d4b702; text-decoration-color: #d4b702\">╰─ LiteLLMModel - ollama_chat/qwen2.5-coder:7b-instruct-q2_K ─────────────────────────────────────────────────────╯</span>\n",
       "</pre>\n"
      ],
      "text/plain": [
       "\u001b[38;2;212;183;2m╭─\u001b[0m\u001b[38;2;212;183;2m───────────────────────────────────────────────────\u001b[0m\u001b[38;2;212;183;2m \u001b[0m\u001b[1;38;2;212;183;2mNew run\u001b[0m\u001b[38;2;212;183;2m \u001b[0m\u001b[38;2;212;183;2m───────────────────────────────────────────────────\u001b[0m\u001b[38;2;212;183;2m─╮\u001b[0m\n",
       "\u001b[38;2;212;183;2m│\u001b[0m                                                                                                                 \u001b[38;2;212;183;2m│\u001b[0m\n",
       "\u001b[38;2;212;183;2m│\u001b[0m \u001b[1mSearch for the best music recommendations for a party at the Wayne's mansion.\u001b[0m                                   \u001b[38;2;212;183;2m│\u001b[0m\n",
       "\u001b[38;2;212;183;2m│\u001b[0m                                                                                                                 \u001b[38;2;212;183;2m│\u001b[0m\n",
       "\u001b[38;2;212;183;2m╰─\u001b[0m\u001b[38;2;212;183;2m LiteLLMModel - ollama_chat/qwen2.5-coder:7b-instruct-q2_K \u001b[0m\u001b[38;2;212;183;2m────────────────────────────────────────────────────\u001b[0m\u001b[38;2;212;183;2m─╯\u001b[0m\n"
      ]
     },
     "metadata": {},
     "output_type": "display_data"
    },
    {
     "data": {
      "text/html": [
       "<pre style=\"white-space:pre;overflow-x:auto;line-height:normal;font-family:Menlo,'DejaVu Sans Mono',consolas,'Courier New',monospace\"><span style=\"color: #d4b702; text-decoration-color: #d4b702\">━━━━━━━━━━━━━━━━━━━━━━━━━━━━━━━━━━━━━━━━━━━━━━━━━━━━━ </span><span style=\"font-weight: bold\">Step </span><span style=\"color: #008080; text-decoration-color: #008080; font-weight: bold\">1</span><span style=\"color: #d4b702; text-decoration-color: #d4b702\"> ━━━━━━━━━━━━━━━━━━━━━━━━━━━━━━━━━━━━━━━━━━━━━━━━━━━━━━</span>\n",
       "</pre>\n"
      ],
      "text/plain": [
       "\u001b[38;2;212;183;2m━━━━━━━━━━━━━━━━━━━━━━━━━━━━━━━━━━━━━━━━━━━━━━━━━━━━━ \u001b[0m\u001b[1mStep \u001b[0m\u001b[1;36m1\u001b[0m\u001b[38;2;212;183;2m ━━━━━━━━━━━━━━━━━━━━━━━━━━━━━━━━━━━━━━━━━━━━━━━━━━━━━━\u001b[0m\n"
      ]
     },
     "metadata": {},
     "output_type": "display_data"
    },
    {
     "data": {
      "text/html": [
       "<pre style=\"white-space:pre;overflow-x:auto;line-height:normal;font-family:Menlo,'DejaVu Sans Mono',consolas,'Courier New',monospace\">╭─────────────────────────────────────────────────────────────────────────────────────────────────────────────────╮\n",
       "│ Calling tool: 'web_search' with arguments: {'query': \"best music recommendations for a party at Wayne's         │\n",
       "│ mansion\"}                                                                                                       │\n",
       "╰─────────────────────────────────────────────────────────────────────────────────────────────────────────────────╯\n",
       "</pre>\n"
      ],
      "text/plain": [
       "╭─────────────────────────────────────────────────────────────────────────────────────────────────────────────────╮\n",
       "│ Calling tool: 'web_search' with arguments: {'query': \"best music recommendations for a party at Wayne's         │\n",
       "│ mansion\"}                                                                                                       │\n",
       "╰─────────────────────────────────────────────────────────────────────────────────────────────────────────────────╯\n"
      ]
     },
     "metadata": {},
     "output_type": "display_data"
    },
    {
     "data": {
      "text/html": [
       "<pre style=\"white-space:pre;overflow-x:auto;line-height:normal;font-family:Menlo,'DejaVu Sans Mono',consolas,'Courier New',monospace\">Observations: ## Search Results\n",
       "\n",
       "|The <span style=\"color: #008080; text-decoration-color: #008080; font-weight: bold\">75</span> Best Party Songs That Will Get Everyone Dancing - \n",
       "Gear4music<span style=\"font-weight: bold\">](</span><span style=\"color: #0000ff; text-decoration-color: #0000ff; text-decoration: underline\">https://www.gear4music.com/blog/best-party-songs/)</span>\n",
       "Creating the perfect soundtrack is crucial to getting the right atmosphere at your event. If you're throwing a \n",
       "party, there are countless songs that will get everyone up and dancing; even once you've chosen your mix, you'll \n",
       "probably still think of more later! So, to keep things simple, we've compiled the best party songs of all time, \n",
       "from timeless classics to contemporary hits, giving <span style=\"color: #808000; text-decoration-color: #808000\">...</span>\n",
       "\n",
       "|<span style=\"color: #008080; text-decoration-color: #008080; font-weight: bold\">50</span> Songs on Every Event Planner's Playlist - \n",
       "Eventbrite<span style=\"font-weight: bold\">](</span><span style=\"color: #0000ff; text-decoration-color: #0000ff; text-decoration: underline\">https://www.eventbrite.com/blog/event-planning-playlist-ds00/)</span>\n",
       "Need help choosing the perfect event music? Discover how to curate the right playlist with song suggestions from \n",
       "Eventbrite.\n",
       "\n",
       "|<span style=\"color: #008080; text-decoration-color: #008080; font-weight: bold\">40</span> Best Party Songs | Songs To Dance To, Ranked By Our Editors - Time \n",
       "Out<span style=\"font-weight: bold\">](</span><span style=\"color: #0000ff; text-decoration-color: #0000ff; text-decoration: underline\">https://www.timeout.com/music/best-party-songs)</span>\n",
       "Looking for dance songs? We've got you covered. From Britney Spears to Diana Ross, Charli XCX to Peggy Gou, here \n",
       "are the best party songs ever written.\n",
       "\n",
       "|<span style=\"color: #008080; text-decoration-color: #008080; font-weight: bold\">200</span> Classic House Party Songs Everyone Knows | The Best Popular Party \n",
       "Songs<span style=\"font-weight: bold\">](</span><span style=\"color: #0000ff; text-decoration-color: #0000ff; text-decoration: underline\">https://www.ispytunes.com/post/house-party-songs)</span>\n",
       "Ready to throw the ultimate house party? These <span style=\"color: #008080; text-decoration-color: #008080; font-weight: bold\">200</span> songs will have everyone on their feet! From classic jams to \n",
       "modern hits, we got you.\n",
       "\n",
       "|Similar Songs Finder | Spotify Playlist Generator - Chosic<span style=\"font-weight: bold\">](</span><span style=\"color: #0000ff; text-decoration-color: #0000ff; text-decoration: underline\">https://www.chosic.com/playlist-generator/)</span>\n",
       "Need to find similar songs to a song you like? To music you love? A playlist created for you in seconds! With \n",
       "Spotify Playlist Generator online tool, create awesome playlists in seconds, featuring similar songs to those you \n",
       "love. Whether by songs, artists, genres, moods, or based on a playlist, just start with what you have in mind, and \n",
       "it will provide you with plenty of song recommendations <span style=\"color: #808000; text-decoration-color: #808000\">...</span>\n",
       "\n",
       "|late nights in the wayne manor part <span style=\"color: #008080; text-decoration-color: #008080; font-weight: bold\">2</span> | a bruce wayne rock/blues <span style=\"color: #808000; text-decoration-color: #808000\">...</span><span style=\"font-weight: bold\">](</span><span style=\"color: #0000ff; text-decoration-color: #0000ff; text-decoration: underline\">https://www.youtube.com/watch?v=DBRSHk2XpmU)</span>\n",
       "these are songs that bruce wayne listens to while wandering the halls of the great wayne manor. this is part <span style=\"color: #008080; text-decoration-color: #008080; font-weight: bold\">2.</span>find\n",
       "this playlist on my spotify: <span style=\"color: #0000ff; text-decoration-color: #0000ff; text-decoration: underline\">https://open...</span>\n",
       "\n",
       "|The Perfect Playlist for Your Evening Soiree - Yellow \n",
       "Co.<span style=\"font-weight: bold\">](</span><span style=\"color: #0000ff; text-decoration-color: #0000ff; text-decoration: underline\">https://archive.yellowco.co/blog/2015/05/21/dinner-party-playlist/)</span>\n",
       "Soiree: noun; an evening party or gathering…for conversation or music It's finally the weekend, and you've invited \n",
       "some of your favorite people over for an evening together. Delicious aromas are wafting from your kitchen and \n",
       "stomachs are grumbling. Maybe you have a bottle of red wine breathing or the makings of cocktails ready at the bar \n",
       "or icy glasses of lemonade at every spot. The <span style=\"color: #808000; text-decoration-color: #808000\">...</span>\n",
       "\n",
       "|The Perfect Music for Your Party - She Keeps a Lovely \n",
       "Home<span style=\"font-weight: bold\">](</span><span style=\"color: #0000ff; text-decoration-color: #0000ff; text-decoration: underline\">https://www.shekeepsalovelyhome.com/perfect-party-music/)</span>\n",
       "Music is one of the most important aspects of any party, but choosing the best sound can be a little tricky. Here \n",
       "are some Pandora stations and Spotify playlists for every classy occasion.\n",
       "\n",
       "|So I wanna get into Wayne's music any recommendations for <span style=\"color: #808000; text-decoration-color: #808000\">...</span> - \n",
       "Reddit<span style=\"font-weight: bold\">](</span><span style=\"color: #0000ff; text-decoration-color: #0000ff; text-decoration: underline\">https://www.reddit.com/r/lilwayne/comments/15h8lxm/so_i_wanna_get_into_waynes_music_any/)</span>\n",
       "So I wanna get into Wayne's music any recommendations for his most hype and lyrical songs that are on \n",
       "albums/mixtapes by him? For the record I've listened to Tha Carter <span style=\"color: #008080; text-decoration-color: #008080; font-weight: bold\">2</span>,<span style=\"color: #008080; text-decoration-color: #008080; font-weight: bold\">3</span>, and <span style=\"color: #008080; text-decoration-color: #008080; font-weight: bold\">4</span> but wanna know more songs I should \n",
       "listen to by him. Archived post. New comments cannot be posted and votes cannot be cast.\n",
       "\n",
       "|Party Music Guide: Ultimate Tips for the Perfect \n",
       "Playlist<span style=\"font-weight: bold\">](</span><span style=\"color: #0000ff; text-decoration-color: #0000ff; text-decoration: underline\">https://thebackstage-deezer.com/music/perfect-party-music-playlist/)</span>\n",
       "Planning a house party? This is the read for you. When you've got your guest list, food and theme planned, the next\n",
       "step is the music. We'll help you make the ultimate playlist with the best party anthems to set the mood.\n",
       "</pre>\n"
      ],
      "text/plain": [
       "Observations: ## Search Results\n",
       "\n",
       "|The \u001b[1;36m75\u001b[0m Best Party Songs That Will Get Everyone Dancing - \n",
       "Gear4music\u001b[1m]\u001b[0m\u001b[1m(\u001b[0m\u001b[4;94mhttps://www.gear4music.com/blog/best-party-songs/\u001b[0m\u001b[4;94m)\u001b[0m\n",
       "Creating the perfect soundtrack is crucial to getting the right atmosphere at your event. If you're throwing a \n",
       "party, there are countless songs that will get everyone up and dancing; even once you've chosen your mix, you'll \n",
       "probably still think of more later! So, to keep things simple, we've compiled the best party songs of all time, \n",
       "from timeless classics to contemporary hits, giving \u001b[33m...\u001b[0m\n",
       "\n",
       "|\u001b[1;36m50\u001b[0m Songs on Every Event Planner's Playlist - \n",
       "Eventbrite\u001b[1m]\u001b[0m\u001b[1m(\u001b[0m\u001b[4;94mhttps://www.eventbrite.com/blog/event-planning-playlist-ds00/\u001b[0m\u001b[4;94m)\u001b[0m\n",
       "Need help choosing the perfect event music? Discover how to curate the right playlist with song suggestions from \n",
       "Eventbrite.\n",
       "\n",
       "|\u001b[1;36m40\u001b[0m Best Party Songs | Songs To Dance To, Ranked By Our Editors - Time \n",
       "Out\u001b[1m]\u001b[0m\u001b[1m(\u001b[0m\u001b[4;94mhttps://www.timeout.com/music/best-party-songs\u001b[0m\u001b[4;94m)\u001b[0m\n",
       "Looking for dance songs? We've got you covered. From Britney Spears to Diana Ross, Charli XCX to Peggy Gou, here \n",
       "are the best party songs ever written.\n",
       "\n",
       "|\u001b[1;36m200\u001b[0m Classic House Party Songs Everyone Knows | The Best Popular Party \n",
       "Songs\u001b[1m]\u001b[0m\u001b[1m(\u001b[0m\u001b[4;94mhttps://www.ispytunes.com/post/house-party-songs\u001b[0m\u001b[4;94m)\u001b[0m\n",
       "Ready to throw the ultimate house party? These \u001b[1;36m200\u001b[0m songs will have everyone on their feet! From classic jams to \n",
       "modern hits, we got you.\n",
       "\n",
       "|Similar Songs Finder | Spotify Playlist Generator - Chosic\u001b[1m]\u001b[0m\u001b[1m(\u001b[0m\u001b[4;94mhttps://www.chosic.com/playlist-generator/\u001b[0m\u001b[4;94m)\u001b[0m\n",
       "Need to find similar songs to a song you like? To music you love? A playlist created for you in seconds! With \n",
       "Spotify Playlist Generator online tool, create awesome playlists in seconds, featuring similar songs to those you \n",
       "love. Whether by songs, artists, genres, moods, or based on a playlist, just start with what you have in mind, and \n",
       "it will provide you with plenty of song recommendations \u001b[33m...\u001b[0m\n",
       "\n",
       "|late nights in the wayne manor part \u001b[1;36m2\u001b[0m | a bruce wayne rock/blues \u001b[33m...\u001b[0m\u001b[1m]\u001b[0m\u001b[1m(\u001b[0m\u001b[4;94mhttps://www.youtube.com/watch?\u001b[0m\u001b[4;94mv\u001b[0m\u001b[4;94m=\u001b[0m\u001b[4;94mDBRSHk2XpmU\u001b[0m\u001b[4;94m)\u001b[0m\n",
       "these are songs that bruce wayne listens to while wandering the halls of the great wayne manor. this is part \u001b[1;36m2.\u001b[0mfind\n",
       "this playlist on my spotify: \u001b[4;94mhttps://open...\u001b[0m\n",
       "\n",
       "|The Perfect Playlist for Your Evening Soiree - Yellow \n",
       "Co.\u001b[1m]\u001b[0m\u001b[1m(\u001b[0m\u001b[4;94mhttps://archive.yellowco.co/blog/2015/05/21/dinner-party-playlist/\u001b[0m\u001b[4;94m)\u001b[0m\n",
       "Soiree: noun; an evening party or gathering…for conversation or music It's finally the weekend, and you've invited \n",
       "some of your favorite people over for an evening together. Delicious aromas are wafting from your kitchen and \n",
       "stomachs are grumbling. Maybe you have a bottle of red wine breathing or the makings of cocktails ready at the bar \n",
       "or icy glasses of lemonade at every spot. The \u001b[33m...\u001b[0m\n",
       "\n",
       "|The Perfect Music for Your Party - She Keeps a Lovely \n",
       "Home\u001b[1m]\u001b[0m\u001b[1m(\u001b[0m\u001b[4;94mhttps://www.shekeepsalovelyhome.com/perfect-party-music/\u001b[0m\u001b[4;94m)\u001b[0m\n",
       "Music is one of the most important aspects of any party, but choosing the best sound can be a little tricky. Here \n",
       "are some Pandora stations and Spotify playlists for every classy occasion.\n",
       "\n",
       "|So I wanna get into Wayne's music any recommendations for \u001b[33m...\u001b[0m - \n",
       "Reddit\u001b[1m]\u001b[0m\u001b[1m(\u001b[0m\u001b[4;94mhttps://www.reddit.com/r/lilwayne/comments/15h8lxm/so_i_wanna_get_into_waynes_music_any/\u001b[0m\u001b[4;94m)\u001b[0m\n",
       "So I wanna get into Wayne's music any recommendations for his most hype and lyrical songs that are on \n",
       "albums/mixtapes by him? For the record I've listened to Tha Carter \u001b[1;36m2\u001b[0m,\u001b[1;36m3\u001b[0m, and \u001b[1;36m4\u001b[0m but wanna know more songs I should \n",
       "listen to by him. Archived post. New comments cannot be posted and votes cannot be cast.\n",
       "\n",
       "|Party Music Guide: Ultimate Tips for the Perfect \n",
       "Playlist\u001b[1m]\u001b[0m\u001b[1m(\u001b[0m\u001b[4;94mhttps://thebackstage-deezer.com/music/perfect-party-music-playlist/\u001b[0m\u001b[4;94m)\u001b[0m\n",
       "Planning a house party? This is the read for you. When you've got your guest list, food and theme planned, the next\n",
       "step is the music. We'll help you make the ultimate playlist with the best party anthems to set the mood.\n"
      ]
     },
     "metadata": {},
     "output_type": "display_data"
    },
    {
     "data": {
      "text/html": [
       "<pre style=\"white-space:pre;overflow-x:auto;line-height:normal;font-family:Menlo,'DejaVu Sans Mono',consolas,'Courier New',monospace\"><span style=\"color: #7f7f7f; text-decoration-color: #7f7f7f\">[Step 1: Duration 5.53 seconds| Input tokens: 1,131 | Output tokens: 36]</span>\n",
       "</pre>\n"
      ],
      "text/plain": [
       "\u001b[2m[Step 1: Duration 5.53 seconds| Input tokens: 1,131 | Output tokens: 36]\u001b[0m\n"
      ]
     },
     "metadata": {},
     "output_type": "display_data"
    },
    {
     "data": {
      "text/html": [
       "<pre style=\"white-space:pre;overflow-x:auto;line-height:normal;font-family:Menlo,'DejaVu Sans Mono',consolas,'Courier New',monospace\"><span style=\"color: #d4b702; text-decoration-color: #d4b702\">━━━━━━━━━━━━━━━━━━━━━━━━━━━━━━━━━━━━━━━━━━━━━━━━━━━━━ </span><span style=\"font-weight: bold\">Step </span><span style=\"color: #008080; text-decoration-color: #008080; font-weight: bold\">2</span><span style=\"color: #d4b702; text-decoration-color: #d4b702\"> ━━━━━━━━━━━━━━━━━━━━━━━━━━━━━━━━━━━━━━━━━━━━━━━━━━━━━━</span>\n",
       "</pre>\n"
      ],
      "text/plain": [
       "\u001b[38;2;212;183;2m━━━━━━━━━━━━━━━━━━━━━━━━━━━━━━━━━━━━━━━━━━━━━━━━━━━━━ \u001b[0m\u001b[1mStep \u001b[0m\u001b[1;36m2\u001b[0m\u001b[38;2;212;183;2m ━━━━━━━━━━━━━━━━━━━━━━━━━━━━━━━━━━━━━━━━━━━━━━━━━━━━━━\u001b[0m\n"
      ]
     },
     "metadata": {},
     "output_type": "display_data"
    },
    {
     "data": {
      "text/html": [
       "<pre style=\"white-space:pre;overflow-x:auto;line-height:normal;font-family:Menlo,'DejaVu Sans Mono',consolas,'Courier New',monospace\">╭─────────────────────────────────────────────────────────────────────────────────────────────────────────────────╮\n",
       "│ Calling tool: 'final_answer' with arguments: {'answer': \"Based on the search results provided, some of the best │\n",
       "│ party songs include: \\n\\n1. 'Uptown Funk' by Mark Ronson ft. Bruno Mars\\n2. 'Tiki Taka' by David Guetta ft.     │\n",
       "│ Louis The Kid\\n3. 'Get It Like That' by Lil Jon ft. Daddy Yankee\\n4. 'We Found Love' by Justin Timberlake\\n5.   │\n",
       "│ 'I Will Remember You' by Enrique Iglesias ft. Kellie Pickard\"}                                                  │\n",
       "╰─────────────────────────────────────────────────────────────────────────────────────────────────────────────────╯\n",
       "</pre>\n"
      ],
      "text/plain": [
       "╭─────────────────────────────────────────────────────────────────────────────────────────────────────────────────╮\n",
       "│ Calling tool: 'final_answer' with arguments: {'answer': \"Based on the search results provided, some of the best │\n",
       "│ party songs include: \\n\\n1. 'Uptown Funk' by Mark Ronson ft. Bruno Mars\\n2. 'Tiki Taka' by David Guetta ft.     │\n",
       "│ Louis The Kid\\n3. 'Get It Like That' by Lil Jon ft. Daddy Yankee\\n4. 'We Found Love' by Justin Timberlake\\n5.   │\n",
       "│ 'I Will Remember You' by Enrique Iglesias ft. Kellie Pickard\"}                                                  │\n",
       "╰─────────────────────────────────────────────────────────────────────────────────────────────────────────────────╯\n"
      ]
     },
     "metadata": {},
     "output_type": "display_data"
    },
    {
     "data": {
      "text/html": [
       "<pre style=\"white-space:pre;overflow-x:auto;line-height:normal;font-family:Menlo,'DejaVu Sans Mono',consolas,'Courier New',monospace\"><span style=\"color: #d4b702; text-decoration-color: #d4b702; font-weight: bold\">Final answer: Based on the search results provided, some of the best party songs include: </span>\n",
       "\n",
       "<span style=\"color: #d4b702; text-decoration-color: #d4b702; font-weight: bold\">1. 'Uptown Funk' by Mark Ronson ft. Bruno Mars</span>\n",
       "<span style=\"color: #d4b702; text-decoration-color: #d4b702; font-weight: bold\">2. 'Tiki Taka' by David Guetta ft. Louis The Kid</span>\n",
       "<span style=\"color: #d4b702; text-decoration-color: #d4b702; font-weight: bold\">3. 'Get It Like That' by Lil Jon ft. Daddy Yankee</span>\n",
       "<span style=\"color: #d4b702; text-decoration-color: #d4b702; font-weight: bold\">4. 'We Found Love' by Justin Timberlake</span>\n",
       "<span style=\"color: #d4b702; text-decoration-color: #d4b702; font-weight: bold\">5. 'I Will Remember You' by Enrique Iglesias ft. Kellie Pickard</span>\n",
       "</pre>\n"
      ],
      "text/plain": [
       "\u001b[1;38;2;212;183;2mFinal answer: Based on the search results provided, some of the best party songs include: \u001b[0m\n",
       "\n",
       "\u001b[1;38;2;212;183;2m1. 'Uptown Funk' by Mark Ronson ft. Bruno Mars\u001b[0m\n",
       "\u001b[1;38;2;212;183;2m2. 'Tiki Taka' by David Guetta ft. Louis The Kid\u001b[0m\n",
       "\u001b[1;38;2;212;183;2m3. 'Get It Like That' by Lil Jon ft. Daddy Yankee\u001b[0m\n",
       "\u001b[1;38;2;212;183;2m4. 'We Found Love' by Justin Timberlake\u001b[0m\n",
       "\u001b[1;38;2;212;183;2m5. 'I Will Remember You' by Enrique Iglesias ft. Kellie Pickard\u001b[0m\n"
      ]
     },
     "metadata": {},
     "output_type": "display_data"
    },
    {
     "data": {
      "text/html": [
       "<pre style=\"white-space:pre;overflow-x:auto;line-height:normal;font-family:Menlo,'DejaVu Sans Mono',consolas,'Courier New',monospace\"><span style=\"color: #7f7f7f; text-decoration-color: #7f7f7f\">[Step 2: Duration 62.09 seconds| Input tokens: 3,163 | Output tokens: 163]</span>\n",
       "</pre>\n"
      ],
      "text/plain": [
       "\u001b[2m[Step 2: Duration 62.09 seconds| Input tokens: 3,163 | Output tokens: 163]\u001b[0m\n"
      ]
     },
     "metadata": {},
     "output_type": "display_data"
    },
    {
     "data": {
      "text/plain": [
       "\"Based on the search results provided, some of the best party songs include: \\n\\n1. 'Uptown Funk' by Mark Ronson ft. Bruno Mars\\n2. 'Tiki Taka' by David Guetta ft. Louis The Kid\\n3. 'Get It Like That' by Lil Jon ft. Daddy Yankee\\n4. 'We Found Love' by Justin Timberlake\\n5. 'I Will Remember You' by Enrique Iglesias ft. Kellie Pickard\""
      ]
     },
     "execution_count": 3,
     "metadata": {},
     "output_type": "execute_result"
    }
   ],
   "source": [
    "from smolagents import ToolCallingAgent, DuckDuckGoSearchTool, LiteLLMModel\n",
    "\n",
    "lite_model=LiteLLMModel(\n",
    "    model_id=\"ollama_chat/qwen2.5-coder:7b-instruct-q2_K\",\n",
    "    api_base=\"http://localhost:11434\",\n",
    "    api_key=\"\",\n",
    ")\n",
    "\n",
    "agent = ToolCallingAgent(\n",
    "    tools=[DuckDuckGoSearchTool(verify=False)],\n",
    "    model=lite_model,\n",
    ")\n",
    "\n",
    "agent.run(\"Search for the best music recommendations for a party at the Wayne's mansion.\")"
   ]
  },
  {
   "cell_type": "markdown",
   "metadata": {
    "id": "Cl19VWGRYXrr"
   },
   "source": [
    "\n",
    "When you examine the agent's trace, instead of seeing `Executing parsed code:`, you'll see something like:\n",
    "\n",
    "```text\n",
    "╭─────────────────────────────────────────────────────────────────────────────────────────────────────────────────╮\n",
    "│ Calling tool: 'web_search' with arguments: {'query': \"best music recommendations for a party at Wayne's         │\n",
    "│ mansion\"}                                                                                                       │\n",
    "╰─────────────────────────────────────────────────────────────────────────────────────────────────────────────────╯\n",
    "```  \n",
    "\n",
    "The agent generates a structured tool call that the system processes to produce the output, rather than directly executing code like a `CodeAgent`.\n",
    "\n",
    "Now that we understand both agent types, we can choose the right one for our needs. Let's continue exploring `smolagents` to make Alfred's party a success! 🎉"
   ]
  }
 ],
 "metadata": {
  "colab": {
   "provenance": []
  },
  "kernelspec": {
   "display_name": "Python 3 (ipykernel)",
   "language": "python",
   "name": "python3"
  },
  "language_info": {
   "codemirror_mode": {
    "name": "ipython",
    "version": 3
   },
   "file_extension": ".py",
   "mimetype": "text/x-python",
   "name": "python",
   "nbconvert_exporter": "python",
   "pygments_lexer": "ipython3",
   "version": "3.12.9"
  }
 },
 "nbformat": 4,
 "nbformat_minor": 4
}
