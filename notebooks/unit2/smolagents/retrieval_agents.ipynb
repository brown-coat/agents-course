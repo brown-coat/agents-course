{
 "cells": [
  {
   "cell_type": "markdown",
   "metadata": {
    "id": "JJHmRIZy4svX"
   },
   "source": [
    "# Building Agentic RAG Systems\n",
    "\n",
    "This notebook is part of the [Hugging Face Agents Course](https://www.hf.co/learn/agents-course), a free Course from beginner to expert, where you learn to build Agents.\n",
    "\n",
    "![Agents course share](https://huggingface.co/datasets/agents-course/course-images/resolve/main/en/communication/share.png)"
   ]
  },
  {
   "cell_type": "markdown",
   "metadata": {
    "id": "vNHb_Xna4x_3"
   },
   "source": [
    "## Let's install the dependencies and login to our HF account to access the Inference API\n",
    "\n",
    "If you haven't installed `smolagents` yet, you can do so by running the following command:the dependencies and login to our HF account to access the Inference API\n"
   ]
  },
  {
   "cell_type": "code",
   "execution_count": null,
   "metadata": {
    "id": "NRWw2n4S4Y87"
   },
   "outputs": [],
   "source": [
    "#!pip install smolagents"
   ]
  },
  {
   "cell_type": "markdown",
   "metadata": {
    "id": "agkxF_blaYid"
   },
   "source": [
    "Let's also login to the Hugging Face Hub to have access to the Inference API."
   ]
  },
  {
   "cell_type": "code",
   "execution_count": 2,
   "metadata": {
    "id": "KiFQS5wj4mXy"
   },
   "outputs": [],
   "source": [
    "#from huggingface_hub import notebook_login\n",
    "\n",
    "#notebook_login()\n",
    "\n",
    "from smolagents import LiteLLMModel\n",
    "\n",
    "QWEN25_3B_Q4_K_M = \"qwen2.5-coder:3b-instruct-q4_K_M\"\n",
    "QWEN25_7B_Q4_K_M = \"qwen2.5-coder:7b-instruct-q4_K_M\"\n",
    "QWEN25_14B_Q4_K_M = \"qwen2.5-coder:14b-instruct-q4_K_M\"\n",
    "QWEN25_32B_Q4_K_M = \"qwen2.5-coder:32b-instruct-q4_K_M\"\n",
    "\n",
    "QWEN3_752M_Q4_K_M = \"qwen3:0.6b\"\n",
    "\n",
    "QWEN3_4B_Q4_K_M = \"qwen3:4b\"\n",
    "\n",
    "QWEN3_8B_Q4_K_M = \"qwen3:8b\"\n",
    "\n",
    "QWEN3_30B_A3B_Q4_K_M = \"qwen3:30b-a3b\"\n",
    "\n",
    "MODEL_ID = \"/\".join([\"ollama_chat\", QWEN3_752M_Q4_K_M])\n",
    "\n",
    "lite_model = LiteLLMModel(\n",
    "    model_id=MODEL_ID,\n",
    "    api_base=\"http://localhost:11434\",\n",
    ")"
   ]
  },
  {
   "cell_type": "markdown",
   "metadata": {
    "id": "toG-RqWX4sIx"
   },
   "source": [
    "## Basic Retrieval with DuckDuckGo\n",
    "\n",
    "Let's build a simple agent that can search the web using DuckDuckGo. This agent will retrieve information and synthesize responses to answer queries. With Agentic RAG, Alfred's agent can:\n",
    "\n",
    "* Search for latest superhero party trends\n",
    "* Refine results to include luxury elements\n",
    "* Synthesize information into a complete plan\n",
    "\n",
    "Here's how Alfred's agent can achieve this:"
   ]
  },
  {
   "cell_type": "code",
   "execution_count": 3,
   "metadata": {
    "colab": {
     "base_uri": "https://localhost:8080/",
     "height": 1000
    },
    "id": "DPklsecm4sQA",
    "outputId": "cd092c8b-4ab9-4ba6-e83e-30b0f21cbaf6"
   },
   "outputs": [
    {
     "data": {
      "text/html": [
       "<pre style=\"white-space:pre;overflow-x:auto;line-height:normal;font-family:Menlo,'DejaVu Sans Mono',consolas,'Courier New',monospace\"><span style=\"color: #d4b702; text-decoration-color: #d4b702\">╭──────────────────────────────────────────────────── </span><span style=\"color: #d4b702; text-decoration-color: #d4b702; font-weight: bold\">New run</span><span style=\"color: #d4b702; text-decoration-color: #d4b702\"> ────────────────────────────────────────────────────╮</span>\n",
       "<span style=\"color: #d4b702; text-decoration-color: #d4b702\">│</span>                                                                                                                 <span style=\"color: #d4b702; text-decoration-color: #d4b702\">│</span>\n",
       "<span style=\"color: #d4b702; text-decoration-color: #d4b702\">│</span> <span style=\"font-weight: bold\">Search for luxury superhero-themed party ideas, including decorations, entertainment, and catering.</span>             <span style=\"color: #d4b702; text-decoration-color: #d4b702\">│</span>\n",
       "<span style=\"color: #d4b702; text-decoration-color: #d4b702\">│</span>                                                                                                                 <span style=\"color: #d4b702; text-decoration-color: #d4b702\">│</span>\n",
       "<span style=\"color: #d4b702; text-decoration-color: #d4b702\">╰─ LiteLLMModel - ollama_chat/qwen3:0.6b ─────────────────────────────────────────────────────────────────────────╯</span>\n",
       "</pre>\n"
      ],
      "text/plain": [
       "\u001b[38;2;212;183;2m╭─\u001b[0m\u001b[38;2;212;183;2m───────────────────────────────────────────────────\u001b[0m\u001b[38;2;212;183;2m \u001b[0m\u001b[1;38;2;212;183;2mNew run\u001b[0m\u001b[38;2;212;183;2m \u001b[0m\u001b[38;2;212;183;2m───────────────────────────────────────────────────\u001b[0m\u001b[38;2;212;183;2m─╮\u001b[0m\n",
       "\u001b[38;2;212;183;2m│\u001b[0m                                                                                                                 \u001b[38;2;212;183;2m│\u001b[0m\n",
       "\u001b[38;2;212;183;2m│\u001b[0m \u001b[1mSearch for luxury superhero-themed party ideas, including decorations, entertainment, and catering.\u001b[0m             \u001b[38;2;212;183;2m│\u001b[0m\n",
       "\u001b[38;2;212;183;2m│\u001b[0m                                                                                                                 \u001b[38;2;212;183;2m│\u001b[0m\n",
       "\u001b[38;2;212;183;2m╰─\u001b[0m\u001b[38;2;212;183;2m LiteLLMModel - ollama_chat/qwen3:0.6b \u001b[0m\u001b[38;2;212;183;2m────────────────────────────────────────────────────────────────────────\u001b[0m\u001b[38;2;212;183;2m─╯\u001b[0m\n"
      ]
     },
     "metadata": {},
     "output_type": "display_data"
    },
    {
     "data": {
      "text/html": [
       "<pre style=\"white-space:pre;overflow-x:auto;line-height:normal;font-family:Menlo,'DejaVu Sans Mono',consolas,'Courier New',monospace\"><span style=\"color: #d4b702; text-decoration-color: #d4b702\">━━━━━━━━━━━━━━━━━━━━━━━━━━━━━━━━━━━━━━━━━━━━━━━━━━━━━ </span><span style=\"font-weight: bold\">Step </span><span style=\"color: #008080; text-decoration-color: #008080; font-weight: bold\">1</span><span style=\"color: #d4b702; text-decoration-color: #d4b702\"> ━━━━━━━━━━━━━━━━━━━━━━━━━━━━━━━━━━━━━━━━━━━━━━━━━━━━━━</span>\n",
       "</pre>\n"
      ],
      "text/plain": [
       "\u001b[38;2;212;183;2m━━━━━━━━━━━━━━━━━━━━━━━━━━━━━━━━━━━━━━━━━━━━━━━━━━━━━ \u001b[0m\u001b[1mStep \u001b[0m\u001b[1;36m1\u001b[0m\u001b[38;2;212;183;2m ━━━━━━━━━━━━━━━━━━━━━━━━━━━━━━━━━━━━━━━━━━━━━━━━━━━━━━\u001b[0m\n"
      ]
     },
     "metadata": {},
     "output_type": "display_data"
    },
    {
     "data": {
      "text/html": [
       "<pre style=\"white-space:pre;overflow-x:auto;line-height:normal;font-family:Menlo,'DejaVu Sans Mono',consolas,'Courier New',monospace\"><span style=\"color: #800000; text-decoration-color: #800000; font-weight: bold\">Error in code parsing:</span>\n",
       "<span style=\"color: #800000; text-decoration-color: #800000; font-weight: bold\">Your code snippet is invalid, because the regex pattern ```(?:py|python)?\\s*\\</span><span style=\"color: #800080; text-decoration-color: #800080; font-weight: bold\">n</span><span style=\"color: #800000; text-decoration-color: #800000; font-weight: bold\">(.*?)\\n``` was not found in it.</span>\n",
       "<span style=\"color: #800000; text-decoration-color: #800000; font-weight: bold\">            Here is your code snippet:</span>\n",
       "<span style=\"color: #800000; text-decoration-color: #800000; font-weight: bold\">            &lt;</span><span style=\"color: #ff00ff; text-decoration-color: #ff00ff; font-weight: bold\">think</span><span style=\"color: #000000; text-decoration-color: #000000; font-weight: bold\">&gt;</span>\n",
       "<span style=\"color: #000000; text-decoration-color: #000000; font-weight: bold\">Okay, the user wants luxury superhero-themed party ideas, including decorations, entertainment, and catering. Let </span>\n",
       "<span style=\"color: #000000; text-decoration-color: #000000; font-weight: bold\">me start by breaking down each component.</span>\n",
       "\n",
       "<span style=\"color: #000000; text-decoration-color: #000000; font-weight: bold\">First, decorations. Luxury implies high-quality materials and personalized elements. Maybe incorporate themes like </span>\n",
       "<span style=\"color: #000000; text-decoration-color: #000000; font-weight: bold\">superhero costumes made from premium fabrics or unique symbols. Also, think about themed spaces, like a superhero's</span>\n",
       "<span style=\"color: #000000; text-decoration-color: #000000; font-weight: bold\">home or a city with tech elements. Maybe use LED lights or holographic displays to add a modern touch.</span>\n",
       "\n",
       "<span style=\"color: #000000; text-decoration-color: #000000; font-weight: bold\">Next, entertainment. Luxury parties usually have VIP guests and high-end experiences. Maybe include exclusive </span>\n",
       "<span style=\"color: #000000; text-decoration-color: #000000; font-weight: bold\">events, VIP dinners, or themed games. Incorporate tech like holograms or interactive displays. Also, think about </span>\n",
       "<span style=\"color: #000000; text-decoration-color: #000000; font-weight: bold\">themed music or special events to enhance the vibe.</span>\n",
       "\n",
       "<span style=\"color: #000000; text-decoration-color: #000000; font-weight: bold\">Catering is another key aspect. Luxury caterers provide premium food, so maybe include gourmet dishes with </span>\n",
       "<span style=\"color: #000000; text-decoration-color: #000000; font-weight: bold\">personalized touches. Maybe a themed menu that ties into superhero elements, like a city or a mission. Also, ensure</span>\n",
       "<span style=\"color: #000000; text-decoration-color: #000000; font-weight: bold\">the food is both delicious and suitable for the party's atmosphere.</span>\n",
       "\n",
       "<span style=\"color: #000000; text-decoration-color: #000000; font-weight: bold\">Wait, the user is asking for ideas, not just a list. Need to make sure each section is detailed. Let me check if I </span>\n",
       "<span style=\"color: #000000; text-decoration-color: #000000; font-weight: bold\">missed anything. Decorations: materials, symbols, tech. Entertainment: VIPs, events, tech. Catering: premium food, </span>\n",
       "<span style=\"color: #000000; text-decoration-color: #000000; font-weight: bold\">theme, customization. Maybe also include a budget aspect or time frame for each idea. Also, think about the overall</span>\n",
       "<span style=\"color: #000000; text-decoration-color: #000000; font-weight: bold\">theme being superhero-themed, so the party should feel exclusive and fancy.</span>\n",
       "\n",
       "<span style=\"color: #000000; text-decoration-color: #000000; font-weight: bold\">Is there a need to mention any specific locations or formats, like a resort or a virtual event? The user didn't </span>\n",
       "<span style=\"color: #000000; text-decoration-color: #000000; font-weight: bold\">specify, so maybe keep it general. Also, consider the guest experience, like personalized touches in decorations or</span>\n",
       "<span style=\"color: #000000; text-decoration-color: #000000; font-weight: bold\">catering. Alright, I think that covers all aspects.</span>\n",
       "<span style=\"color: #000000; text-decoration-color: #000000; font-weight: bold\">&lt;</span><span style=\"color: #800080; text-decoration-color: #800080; font-weight: bold\">/</span><span style=\"color: #ff00ff; text-decoration-color: #ff00ff; font-weight: bold\">think</span><span style=\"color: #000000; text-decoration-color: #000000; font-weight: bold\">&gt;</span>\n",
       "\n",
       "<span style=\"color: #000000; text-decoration-color: #000000; font-weight: bold\">Here’s a curated list of luxury superhero-themed party ideas, including decorations, entertainment, and catering:</span>\n",
       "\n",
       "<span style=\"color: #000000; text-decoration-color: #000000; font-weight: bold\">### **Decorations**  </span>\n",
       "<span style=\"color: #008080; text-decoration-color: #008080; font-weight: bold\">1</span><span style=\"color: #000000; text-decoration-color: #000000; font-weight: bold\">. **Themed Spaces**  </span>\n",
       "<span style=\"color: #000000; text-decoration-color: #000000; font-weight: bold\">   - Create a </span><span style=\"color: #008000; text-decoration-color: #008000\">\"Super Hero Home\"</span><span style=\"color: #000000; text-decoration-color: #000000; font-weight: bold\"> with premium fabrics, holographic displays, and tech elements like LED lights or </span>\n",
       "<span style=\"color: #000000; text-decoration-color: #000000; font-weight: bold\">interactive displays.  </span>\n",
       "<span style=\"color: #000000; text-decoration-color: #000000; font-weight: bold\">   - Use unique symbols (e.g., a glowing shield, alien tech) or themed layouts (e.g., a city with superhero </span>\n",
       "<span style=\"color: #000000; text-decoration-color: #000000; font-weight: bold\">landmarks).  </span>\n",
       "\n",
       "<span style=\"color: #000000; text-decoration-color: #000000; font-weight: bold\">### **Entertainment**  </span>\n",
       "<span style=\"color: #008080; text-decoration-color: #008080; font-weight: bold\">1</span><span style=\"color: #000000; text-decoration-color: #000000; font-weight: bold\">. **VIP Events**  </span>\n",
       "<span style=\"color: #000000; text-decoration-color: #000000; font-weight: bold\">   - Feature exclusive VIP dinners or themed games (e.g., holographic challenges, tech-driven trivia).  </span>\n",
       "<span style=\"color: #000000; text-decoration-color: #000000; font-weight: bold\">   - Incorporate live entertainment, such as holographic music or interactive tech shows.  </span>\n",
       "\n",
       "<span style=\"color: #000000; text-decoration-color: #000000; font-weight: bold\">### **Catering**  </span>\n",
       "<span style=\"color: #008080; text-decoration-color: #008080; font-weight: bold\">1</span><span style=\"color: #000000; text-decoration-color: #000000; font-weight: bold\">. **Gourmet Menu**  </span>\n",
       "<span style=\"color: #000000; text-decoration-color: #000000; font-weight: bold\">   - Offer premium food options (e.g., gourmet desserts, tech-enhanced dishes) with personalized touches.  </span>\n",
       "<span style=\"color: #000000; text-decoration-color: #000000; font-weight: bold\">   - Use a themed menu (e.g., a </span><span style=\"color: #008000; text-decoration-color: #008000\">\"Space Odyssey\"</span><span style=\"color: #000000; text-decoration-color: #000000; font-weight: bold\"> or </span><span style=\"color: #008000; text-decoration-color: #008000\">\"Superhuman Mission\"</span><span style=\"color: #000000; text-decoration-color: #000000; font-weight: bold\">) and ensure the food is both delicious and </span>\n",
       "<span style=\"color: #000000; text-decoration-color: #000000; font-weight: bold\">suitable for the party’s atmosphere.  </span>\n",
       "\n",
       "<span style=\"color: #000000; text-decoration-color: #000000; font-weight: bold\">By blending high-quality decorations, exclusive events, and premium catering, these ideas create a luxurious, </span>\n",
       "<span style=\"color: #000000; text-decoration-color: #000000; font-weight: bold\">exclusive experience that enhances the superhero theme. Let me know if you'd like help tailoring any of these ideas</span>\n",
       "<span style=\"color: #000000; text-decoration-color: #000000; font-weight: bold\">further!</span>\n",
       "<span style=\"color: #000000; text-decoration-color: #000000; font-weight: bold\">            Make sure to include code with the correct pattern, for instance:</span>\n",
       "<span style=\"color: #000000; text-decoration-color: #000000; font-weight: bold\">            Thoughts: Your thoughts</span>\n",
       "<span style=\"color: #000000; text-decoration-color: #000000; font-weight: bold\">            Code:</span>\n",
       "<span style=\"color: #000000; text-decoration-color: #000000; font-weight: bold\">            ```py</span>\n",
       "<span style=\"color: #000000; text-decoration-color: #000000; font-weight: bold\">            # Your python code here</span>\n",
       "<span style=\"color: #000000; text-decoration-color: #000000; font-weight: bold\">            ```&lt;end_code</span><span style=\"color: #800000; text-decoration-color: #800000; font-weight: bold\">&gt;</span>\n",
       "<span style=\"color: #800000; text-decoration-color: #800000; font-weight: bold\">Make sure to provide correct code blobs.</span>\n",
       "</pre>\n"
      ],
      "text/plain": [
       "\u001b[1;31mError in code parsing:\u001b[0m\n",
       "\u001b[1;31mYour code snippet is invalid, because the regex pattern ```\u001b[0m\u001b[1;31m(\u001b[0m\u001b[1;31m?:py|python\u001b[0m\u001b[1;31m)\u001b[0m\u001b[1;31m?\\s*\\\u001b[0m\u001b[1;35mn\u001b[0m\u001b[1;31m(\u001b[0m\u001b[1;31m.*?\u001b[0m\u001b[1;31m)\u001b[0m\u001b[1;31m\\n``` was not found in it.\u001b[0m\n",
       "\u001b[1;31m            Here is your code snippet:\u001b[0m\n",
       "\u001b[1;31m            \u001b[0m\u001b[1;31m<\u001b[0m\u001b[1;95mthink\u001b[0m\u001b[1;39m>\u001b[0m\n",
       "\u001b[1;39mOkay, the user wants luxury superhero-themed party ideas, including decorations, entertainment, and catering. Let \u001b[0m\n",
       "\u001b[1;39mme start by breaking down each component.\u001b[0m\n",
       "\n",
       "\u001b[1;39mFirst, decorations. Luxury implies high-quality materials and personalized elements. Maybe incorporate themes like \u001b[0m\n",
       "\u001b[1;39msuperhero costumes made from premium fabrics or unique symbols. Also, think about themed spaces, like a superhero's\u001b[0m\n",
       "\u001b[1;39mhome or a city with tech elements. Maybe use LED lights or holographic displays to add a modern touch.\u001b[0m\n",
       "\n",
       "\u001b[1;39mNext, entertainment. Luxury parties usually have VIP guests and high-end experiences. Maybe include exclusive \u001b[0m\n",
       "\u001b[1;39mevents, VIP dinners, or themed games. Incorporate tech like holograms or interactive displays. Also, think about \u001b[0m\n",
       "\u001b[1;39mthemed music or special events to enhance the vibe.\u001b[0m\n",
       "\n",
       "\u001b[1;39mCatering is another key aspect. Luxury caterers provide premium food, so maybe include gourmet dishes with \u001b[0m\n",
       "\u001b[1;39mpersonalized touches. Maybe a themed menu that ties into superhero elements, like a city or a mission. Also, ensure\u001b[0m\n",
       "\u001b[1;39mthe food is both delicious and suitable for the party's atmosphere.\u001b[0m\n",
       "\n",
       "\u001b[1;39mWait, the user is asking for ideas, not just a list. Need to make sure each section is detailed. Let me check if I \u001b[0m\n",
       "\u001b[1;39mmissed anything. Decorations: materials, symbols, tech. Entertainment: VIPs, events, tech. Catering: premium food, \u001b[0m\n",
       "\u001b[1;39mtheme, customization. Maybe also include a budget aspect or time frame for each idea. Also, think about the overall\u001b[0m\n",
       "\u001b[1;39mtheme being superhero-themed, so the party should feel exclusive and fancy.\u001b[0m\n",
       "\n",
       "\u001b[1;39mIs there a need to mention any specific locations or formats, like a resort or a virtual event? The user didn't \u001b[0m\n",
       "\u001b[1;39mspecify, so maybe keep it general. Also, consider the guest experience, like personalized touches in decorations or\u001b[0m\n",
       "\u001b[1;39mcatering. Alright, I think that covers all aspects.\u001b[0m\n",
       "\u001b[1;39m<\u001b[0m\u001b[1;35m/\u001b[0m\u001b[1;95mthink\u001b[0m\u001b[1;39m>\u001b[0m\n",
       "\n",
       "\u001b[1;39mHere’s a curated list of luxury superhero-themed party ideas, including decorations, entertainment, and catering:\u001b[0m\n",
       "\n",
       "\u001b[1;39m### **Decorations**  \u001b[0m\n",
       "\u001b[1;36m1\u001b[0m\u001b[1;39m. **Themed Spaces**  \u001b[0m\n",
       "\u001b[1;39m   - Create a \u001b[0m\u001b[32m\"Super Hero Home\"\u001b[0m\u001b[1;39m with premium fabrics, holographic displays, and tech elements like LED lights or \u001b[0m\n",
       "\u001b[1;39minteractive displays.  \u001b[0m\n",
       "\u001b[1;39m   - Use unique symbols \u001b[0m\u001b[1;39m(\u001b[0m\u001b[1;39me.g., a glowing shield, alien tech\u001b[0m\u001b[1;39m)\u001b[0m\u001b[1;39m or themed layouts \u001b[0m\u001b[1;39m(\u001b[0m\u001b[1;39me.g., a city with superhero \u001b[0m\n",
       "\u001b[1;39mlandmarks\u001b[0m\u001b[1;39m)\u001b[0m\u001b[1;39m.  \u001b[0m\n",
       "\n",
       "\u001b[1;39m### **Entertainment**  \u001b[0m\n",
       "\u001b[1;36m1\u001b[0m\u001b[1;39m. **VIP Events**  \u001b[0m\n",
       "\u001b[1;39m   - Feature exclusive VIP dinners or themed games \u001b[0m\u001b[1;39m(\u001b[0m\u001b[1;39me.g., holographic challenges, tech-driven trivia\u001b[0m\u001b[1;39m)\u001b[0m\u001b[1;39m.  \u001b[0m\n",
       "\u001b[1;39m   - Incorporate live entertainment, such as holographic music or interactive tech shows.  \u001b[0m\n",
       "\n",
       "\u001b[1;39m### **Catering**  \u001b[0m\n",
       "\u001b[1;36m1\u001b[0m\u001b[1;39m. **Gourmet Menu**  \u001b[0m\n",
       "\u001b[1;39m   - Offer premium food options \u001b[0m\u001b[1;39m(\u001b[0m\u001b[1;39me.g., gourmet desserts, tech-enhanced dishes\u001b[0m\u001b[1;39m)\u001b[0m\u001b[1;39m with personalized touches.  \u001b[0m\n",
       "\u001b[1;39m   - Use a themed menu \u001b[0m\u001b[1;39m(\u001b[0m\u001b[1;39me.g., a \u001b[0m\u001b[32m\"Space Odyssey\"\u001b[0m\u001b[1;39m or \u001b[0m\u001b[32m\"Superhuman Mission\"\u001b[0m\u001b[1;39m)\u001b[0m\u001b[1;39m and ensure the food is both delicious and \u001b[0m\n",
       "\u001b[1;39msuitable for the party’s atmosphere.  \u001b[0m\n",
       "\n",
       "\u001b[1;39mBy blending high-quality decorations, exclusive events, and premium catering, these ideas create a luxurious, \u001b[0m\n",
       "\u001b[1;39mexclusive experience that enhances the superhero theme. Let me know if you'd like help tailoring any of these ideas\u001b[0m\n",
       "\u001b[1;39mfurther!\u001b[0m\n",
       "\u001b[1;39m            Make sure to include code with the correct pattern, for instance:\u001b[0m\n",
       "\u001b[1;39m            Thoughts: Your thoughts\u001b[0m\n",
       "\u001b[1;39m            Code:\u001b[0m\n",
       "\u001b[1;39m            ```py\u001b[0m\n",
       "\u001b[1;39m            # Your python code here\u001b[0m\n",
       "\u001b[1;39m            ```<end_code\u001b[0m\u001b[1;31m>\u001b[0m\n",
       "\u001b[1;31mMake sure to provide correct code blobs.\u001b[0m\n"
      ]
     },
     "metadata": {},
     "output_type": "display_data"
    },
    {
     "data": {
      "text/html": [
       "<pre style=\"white-space:pre;overflow-x:auto;line-height:normal;font-family:Menlo,'DejaVu Sans Mono',consolas,'Courier New',monospace\"><span style=\"color: #7f7f7f; text-decoration-color: #7f7f7f\">[Step 1: Duration 23.84 seconds| Input tokens: 27 | Output tokens: 612]</span>\n",
       "</pre>\n"
      ],
      "text/plain": [
       "\u001b[2m[Step 1: Duration 23.84 seconds| Input tokens: 27 | Output tokens: 612]\u001b[0m\n"
      ]
     },
     "metadata": {},
     "output_type": "display_data"
    },
    {
     "data": {
      "text/html": [
       "<pre style=\"white-space:pre;overflow-x:auto;line-height:normal;font-family:Menlo,'DejaVu Sans Mono',consolas,'Courier New',monospace\"><span style=\"color: #d4b702; text-decoration-color: #d4b702\">━━━━━━━━━━━━━━━━━━━━━━━━━━━━━━━━━━━━━━━━━━━━━━━━━━━━━ </span><span style=\"font-weight: bold\">Step </span><span style=\"color: #008080; text-decoration-color: #008080; font-weight: bold\">2</span><span style=\"color: #d4b702; text-decoration-color: #d4b702\"> ━━━━━━━━━━━━━━━━━━━━━━━━━━━━━━━━━━━━━━━━━━━━━━━━━━━━━━</span>\n",
       "</pre>\n"
      ],
      "text/plain": [
       "\u001b[38;2;212;183;2m━━━━━━━━━━━━━━━━━━━━━━━━━━━━━━━━━━━━━━━━━━━━━━━━━━━━━ \u001b[0m\u001b[1mStep \u001b[0m\u001b[1;36m2\u001b[0m\u001b[38;2;212;183;2m ━━━━━━━━━━━━━━━━━━━━━━━━━━━━━━━━━━━━━━━━━━━━━━━━━━━━━━\u001b[0m\n"
      ]
     },
     "metadata": {},
     "output_type": "display_data"
    },
    {
     "data": {
      "text/html": [
       "<pre style=\"white-space:pre;overflow-x:auto;line-height:normal;font-family:Menlo,'DejaVu Sans Mono',consolas,'Courier New',monospace\"><span style=\"color: #800000; text-decoration-color: #800000; font-weight: bold\">Error in code parsing:</span>\n",
       "<span style=\"color: #800000; text-decoration-color: #800000; font-weight: bold\">Your code snippet is invalid, because the regex pattern ```(?:py|python)?\\s*\\</span><span style=\"color: #800080; text-decoration-color: #800080; font-weight: bold\">n</span><span style=\"color: #800000; text-decoration-color: #800000; font-weight: bold\">(.*?)\\n``` was not found in it.</span>\n",
       "<span style=\"color: #800000; text-decoration-color: #800000; font-weight: bold\">                Here is your code snippet:</span>\n",
       "<span style=\"color: #800000; text-decoration-color: #800000; font-weight: bold\">                &lt;</span><span style=\"color: #ff00ff; text-decoration-color: #ff00ff; font-weight: bold\">think</span><span style=\"color: #000000; text-decoration-color: #000000; font-weight: bold\">&gt;</span>\n",
       "<span style=\"color: #000000; text-decoration-color: #000000; font-weight: bold\">Okay, the user is asking about luxury superhero-themed party ideas. Let me start by breaking down each component. </span>\n",
       "<span style=\"color: #000000; text-decoration-color: #000000; font-weight: bold\">First, decorations. Luxury implies high-quality materials and personalized elements. Maybe use premium fabrics or </span>\n",
       "<span style=\"color: #000000; text-decoration-color: #000000; font-weight: bold\">unique symbols. Also, think about tech elements like holograms or interactive displays.</span>\n",
       "\n",
       "<span style=\"color: #000000; text-decoration-color: #000000; font-weight: bold\">Next, entertainment. VIP guests and exclusive events. Tech like holograms or interactive shows. Also, ensure the </span>\n",
       "<span style=\"color: #000000; text-decoration-color: #000000; font-weight: bold\">food is premium and tailored.</span>\n",
       "\n",
       "<span style=\"color: #000000; text-decoration-color: #000000; font-weight: bold\">Catering is another key part. Use a themed menu and premium food. Maybe include a budget or time frame. Also, think</span>\n",
       "<span style=\"color: #000000; text-decoration-color: #000000; font-weight: bold\">about the overall theme being superhero-themed.</span>\n",
       "\n",
       "<span style=\"color: #000000; text-decoration-color: #000000; font-weight: bold\">Wait, the user mentioned an error about regex. Let me check again. The regex was too long. Maybe the code should be</span>\n",
       "<span style=\"color: #000000; text-decoration-color: #000000; font-weight: bold\">simpler. Let me rephrase the code to avoid the regex issue. Make sure to use the correct syntax and structure. </span>\n",
       "<span style=\"color: #000000; text-decoration-color: #000000; font-weight: bold\">Alright, time to finalize the answer with clear, step-by-step explanations.</span>\n",
       "<span style=\"color: #000000; text-decoration-color: #000000; font-weight: bold\">                It seems like you're trying to return the final answer, you can do it as follows:</span>\n",
       "<span style=\"color: #000000; text-decoration-color: #000000; font-weight: bold\">                Code:</span>\n",
       "<span style=\"color: #000000; text-decoration-color: #000000; font-weight: bold\">                ```py</span>\n",
       "<span style=\"color: #000000; text-decoration-color: #000000; font-weight: bold\">                </span><span style=\"color: #800080; text-decoration-color: #800080; font-weight: bold\">final_answer</span><span style=\"color: #000000; text-decoration-color: #000000; font-weight: bold\">(</span><span style=\"color: #008000; text-decoration-color: #008000\">\"YOUR FINAL ANSWER HERE\"</span><span style=\"color: #000000; text-decoration-color: #000000; font-weight: bold\">)</span>\n",
       "<span style=\"color: #000000; text-decoration-color: #000000; font-weight: bold\">                ```&lt;end_code</span><span style=\"color: #800000; text-decoration-color: #800000; font-weight: bold\">&gt;</span>\n",
       "<span style=\"color: #800000; text-decoration-color: #800000; font-weight: bold\">Make sure to provide correct code blobs.</span>\n",
       "</pre>\n"
      ],
      "text/plain": [
       "\u001b[1;31mError in code parsing:\u001b[0m\n",
       "\u001b[1;31mYour code snippet is invalid, because the regex pattern ```\u001b[0m\u001b[1;31m(\u001b[0m\u001b[1;31m?:py|python\u001b[0m\u001b[1;31m)\u001b[0m\u001b[1;31m?\\s*\\\u001b[0m\u001b[1;35mn\u001b[0m\u001b[1;31m(\u001b[0m\u001b[1;31m.*?\u001b[0m\u001b[1;31m)\u001b[0m\u001b[1;31m\\n``` was not found in it.\u001b[0m\n",
       "\u001b[1;31m                Here is your code snippet:\u001b[0m\n",
       "\u001b[1;31m                \u001b[0m\u001b[1;31m<\u001b[0m\u001b[1;95mthink\u001b[0m\u001b[1;39m>\u001b[0m\n",
       "\u001b[1;39mOkay, the user is asking about luxury superhero-themed party ideas. Let me start by breaking down each component. \u001b[0m\n",
       "\u001b[1;39mFirst, decorations. Luxury implies high-quality materials and personalized elements. Maybe use premium fabrics or \u001b[0m\n",
       "\u001b[1;39munique symbols. Also, think about tech elements like holograms or interactive displays.\u001b[0m\n",
       "\n",
       "\u001b[1;39mNext, entertainment. VIP guests and exclusive events. Tech like holograms or interactive shows. Also, ensure the \u001b[0m\n",
       "\u001b[1;39mfood is premium and tailored.\u001b[0m\n",
       "\n",
       "\u001b[1;39mCatering is another key part. Use a themed menu and premium food. Maybe include a budget or time frame. Also, think\u001b[0m\n",
       "\u001b[1;39mabout the overall theme being superhero-themed.\u001b[0m\n",
       "\n",
       "\u001b[1;39mWait, the user mentioned an error about regex. Let me check again. The regex was too long. Maybe the code should be\u001b[0m\n",
       "\u001b[1;39msimpler. Let me rephrase the code to avoid the regex issue. Make sure to use the correct syntax and structure. \u001b[0m\n",
       "\u001b[1;39mAlright, time to finalize the answer with clear, step-by-step explanations.\u001b[0m\n",
       "\u001b[1;39m                It seems like you're trying to return the final answer, you can do it as follows:\u001b[0m\n",
       "\u001b[1;39m                Code:\u001b[0m\n",
       "\u001b[1;39m                ```py\u001b[0m\n",
       "\u001b[1;39m                \u001b[0m\u001b[1;35mfinal_answer\u001b[0m\u001b[1;39m(\u001b[0m\u001b[32m\"YOUR FINAL ANSWER HERE\"\u001b[0m\u001b[1;39m)\u001b[0m\n",
       "\u001b[1;39m                ```<end_code\u001b[0m\u001b[1;31m>\u001b[0m\n",
       "\u001b[1;31mMake sure to provide correct code blobs.\u001b[0m\n"
      ]
     },
     "metadata": {},
     "output_type": "display_data"
    },
    {
     "data": {
      "text/html": [
       "<pre style=\"white-space:pre;overflow-x:auto;line-height:normal;font-family:Menlo,'DejaVu Sans Mono',consolas,'Courier New',monospace\"><span style=\"color: #7f7f7f; text-decoration-color: #7f7f7f\">[Step 2: Duration 31.89 seconds| Input tokens: 2,075 | Output tokens: 799]</span>\n",
       "</pre>\n"
      ],
      "text/plain": [
       "\u001b[2m[Step 2: Duration 31.89 seconds| Input tokens: 2,075 | Output tokens: 799]\u001b[0m\n"
      ]
     },
     "metadata": {},
     "output_type": "display_data"
    },
    {
     "data": {
      "text/html": [
       "<pre style=\"white-space:pre;overflow-x:auto;line-height:normal;font-family:Menlo,'DejaVu Sans Mono',consolas,'Courier New',monospace\"><span style=\"color: #d4b702; text-decoration-color: #d4b702\">━━━━━━━━━━━━━━━━━━━━━━━━━━━━━━━━━━━━━━━━━━━━━━━━━━━━━ </span><span style=\"font-weight: bold\">Step </span><span style=\"color: #008080; text-decoration-color: #008080; font-weight: bold\">3</span><span style=\"color: #d4b702; text-decoration-color: #d4b702\"> ━━━━━━━━━━━━━━━━━━━━━━━━━━━━━━━━━━━━━━━━━━━━━━━━━━━━━━</span>\n",
       "</pre>\n"
      ],
      "text/plain": [
       "\u001b[38;2;212;183;2m━━━━━━━━━━━━━━━━━━━━━━━━━━━━━━━━━━━━━━━━━━━━━━━━━━━━━ \u001b[0m\u001b[1mStep \u001b[0m\u001b[1;36m3\u001b[0m\u001b[38;2;212;183;2m ━━━━━━━━━━━━━━━━━━━━━━━━━━━━━━━━━━━━━━━━━━━━━━━━━━━━━━\u001b[0m\n"
      ]
     },
     "metadata": {},
     "output_type": "display_data"
    },
    {
     "data": {
      "text/html": [
       "<pre style=\"white-space:pre;overflow-x:auto;line-height:normal;font-family:Menlo,'DejaVu Sans Mono',consolas,'Courier New',monospace\"> ─ <span style=\"font-weight: bold\">Executing parsed code:</span> ──────────────────────────────────────────────────────────────────────────────────────── \n",
       "  <span style=\"color: #f8f8f2; text-decoration-color: #f8f8f2; background-color: #272822\">final_answer(</span><span style=\"color: #e6db74; text-decoration-color: #e6db74; background-color: #272822\">\"Luxury superhero-themed party ideas include premium decorations, tech-enhanced entertainment, and</span>  \n",
       "  <span style=\"color: #e6db74; text-decoration-color: #e6db74; background-color: #272822\">themed catering to suit VIP guests and exclusive events.\"</span><span style=\"color: #f8f8f2; text-decoration-color: #f8f8f2; background-color: #272822\">)</span><span style=\"background-color: #272822\">                                                     </span>  \n",
       " ───────────────────────────────────────────────────────────────────────────────────────────────────────────────── \n",
       "</pre>\n"
      ],
      "text/plain": [
       " ─ \u001b[1mExecuting parsed code:\u001b[0m ──────────────────────────────────────────────────────────────────────────────────────── \n",
       "  \u001b[38;2;248;248;242;48;2;39;40;34mfinal_answer\u001b[0m\u001b[38;2;248;248;242;48;2;39;40;34m(\u001b[0m\u001b[38;2;230;219;116;48;2;39;40;34m\"\u001b[0m\u001b[38;2;230;219;116;48;2;39;40;34mLuxury superhero-themed party ideas include premium decorations, tech-enhanced entertainment, and\u001b[0m  \n",
       "  \u001b[38;2;230;219;116;48;2;39;40;34mthemed catering to suit VIP guests and exclusive events.\u001b[0m\u001b[38;2;230;219;116;48;2;39;40;34m\"\u001b[0m\u001b[38;2;248;248;242;48;2;39;40;34m)\u001b[0m\u001b[48;2;39;40;34m                                                     \u001b[0m  \n",
       " ───────────────────────────────────────────────────────────────────────────────────────────────────────────────── \n"
      ]
     },
     "metadata": {},
     "output_type": "display_data"
    },
    {
     "data": {
      "text/html": [
       "<pre style=\"white-space:pre;overflow-x:auto;line-height:normal;font-family:Menlo,'DejaVu Sans Mono',consolas,'Courier New',monospace\"><span style=\"color: #d4b702; text-decoration-color: #d4b702; font-weight: bold\">Out - Final answer: Luxury superhero-themed party ideas include premium decorations, tech-enhanced entertainment, </span>\n",
       "<span style=\"color: #d4b702; text-decoration-color: #d4b702; font-weight: bold\">and themed catering to suit VIP guests and exclusive events.</span>\n",
       "</pre>\n"
      ],
      "text/plain": [
       "\u001b[1;38;2;212;183;2mOut - Final answer: Luxury superhero-themed party ideas include premium decorations, tech-enhanced entertainment, \u001b[0m\n",
       "\u001b[1;38;2;212;183;2mand themed catering to suit VIP guests and exclusive events.\u001b[0m\n"
      ]
     },
     "metadata": {},
     "output_type": "display_data"
    },
    {
     "data": {
      "text/html": [
       "<pre style=\"white-space:pre;overflow-x:auto;line-height:normal;font-family:Menlo,'DejaVu Sans Mono',consolas,'Courier New',monospace\"><span style=\"color: #7f7f7f; text-decoration-color: #7f7f7f\">[Step 3: Duration 33.24 seconds| Input tokens: 4,123 | Output tokens: 1,023]</span>\n",
       "</pre>\n"
      ],
      "text/plain": [
       "\u001b[2m[Step 3: Duration 33.24 seconds| Input tokens: 4,123 | Output tokens: 1,023]\u001b[0m\n"
      ]
     },
     "metadata": {},
     "output_type": "display_data"
    },
    {
     "name": "stdout",
     "output_type": "stream",
     "text": [
      "Luxury superhero-themed party ideas include premium decorations, tech-enhanced entertainment, and themed catering to suit VIP guests and exclusive events.\n"
     ]
    }
   ],
   "source": [
    "from smolagents import CodeAgent, DuckDuckGoSearchTool\n",
    "\n",
    "# Initialize the search tool\n",
    "search_tool = DuckDuckGoSearchTool()\n",
    "\n",
    "# Initialize the model\n",
    "#model = HfApiModel()\n",
    "\n",
    "if not lite_model:\n",
    "    raise ValueError(\"Run cell near top of notebook to ensure lite_model instance\")\n",
    "\n",
    "agent = CodeAgent(\n",
    "    model=lite_model,\n",
    "    tools=[search_tool]\n",
    ")\n",
    "\n",
    "# Example usage\n",
    "response = agent.run(\n",
    "    \"Search for luxury superhero-themed party ideas, including decorations, entertainment, and catering.\"\n",
    ")\n",
    "print(response)"
   ]
  },
  {
   "cell_type": "markdown",
   "metadata": {
    "id": "iHfIWdVWad77"
   },
   "source": [
    "The agent follows this process:\n",
    "\n",
    "1. **Analyzes the Request:** Alfred’s agent identifies the key elements of the query—luxury superhero-themed party planning, with focus on decor, entertainment, and catering.\n",
    "2. **Performs Retrieval:**  The agent leverages DuckDuckGo to search for the most relevant and up-to-date information, ensuring it aligns with Alfred’s refined preferences for a luxurious event.\n",
    "3. **Synthesizes Information:** After gathering the results, the agent processes them into a cohesive, actionable plan for Alfred, covering all aspects of the party.\n",
    "4. **Stores for Future Reference:** The agent stores the retrieved information for easy access when planning future events, optimizing efficiency in subsequent tasks."
   ]
  },
  {
   "cell_type": "markdown",
   "metadata": {
    "id": "bJWn_FDN47u3"
   },
   "source": [
    "## Custom Knowledge Base Tool\n",
    "\n",
    "For specialized tasks, a custom knowledge base can be invaluable. Let's create a tool that queries a vector database of technical documentation or specialized knowledge. Using semantic search, the agent can find the most relevant information for Alfred's needs.\n",
    "\n",
    "This approach combines predefined knowledge with semantic search to provide context-aware solutions for event planning. With specialized knowledge access, Alfred can perfect every detail of the party.\n",
    "\n",
    "Install the dependecies first and run!"
   ]
  },
  {
   "cell_type": "code",
   "execution_count": null,
   "metadata": {
    "id": "OcKM-MSR5Cw-"
   },
   "outputs": [],
   "source": [
    "#!pip install langchain-community rank_bm25"
   ]
  },
  {
   "cell_type": "code",
   "execution_count": null,
   "metadata": {
    "colab": {
     "base_uri": "https://localhost:8080/",
     "height": 1000
    },
    "id": "MRNJkqyR43F-",
    "outputId": "a267884e-427c-484a-af58-9af3098cb9a1"
   },
   "outputs": [],
   "source": [
    "from langchain.docstore.document import Document\n",
    "from langchain.text_splitter import RecursiveCharacterTextSplitter\n",
    "from smolagents import Tool\n",
    "from langchain_community.retrievers import BM25Retriever\n",
    "from smolagents import CodeAgent \n",
    "\n",
    "class PartyPlanningRetrieverTool(Tool):\n",
    "    name = \"party_planning_retriever\"\n",
    "    description = \"Uses semantic search to retrieve relevant party planning ideas for Alfred’s superhero-themed party at Wayne Manor.\"\n",
    "    inputs = {\n",
    "        \"query\": {\n",
    "            \"type\": \"string\",\n",
    "            \"description\": \"The query to perform. This should be a query related to party planning or superhero themes.\",\n",
    "        }\n",
    "    }\n",
    "    output_type = \"string\"\n",
    "\n",
    "    def __init__(self, docs, **kwargs):\n",
    "        super().__init__(**kwargs)\n",
    "        self.retriever = BM25Retriever.from_documents(\n",
    "            docs, k=5  # Retrieve the top 5 documents\n",
    "        )\n",
    "\n",
    "    def forward(self, query: str) -> str:\n",
    "        assert isinstance(query, str), \"Your search query must be a string\"\n",
    "\n",
    "        docs = self.retriever.invoke(\n",
    "            query,\n",
    "        )\n",
    "        return \"\\nRetrieved ideas:\\n\" + \"\".join(\n",
    "            [\n",
    "                f\"\\n\\n===== Idea {str(i)} =====\\n\" + doc.page_content\n",
    "                for i, doc in enumerate(docs)\n",
    "            ]\n",
    "        )\n",
    "\n",
    "# Simulate a knowledge base about party planning\n",
    "party_ideas = [\n",
    "    {\"text\": \"A superhero-themed masquerade ball with luxury decor, including gold accents and velvet curtains.\", \"source\": \"Party Ideas 1\"},\n",
    "    {\"text\": \"Hire a professional DJ who can play themed music for superheroes like Batman and Wonder Woman.\", \"source\": \"Entertainment Ideas\"},\n",
    "    {\"text\": \"For catering, serve dishes named after superheroes, like 'The Hulk's Green Smoothie' and 'Iron Man's Power Steak.'\", \"source\": \"Catering Ideas\"},\n",
    "    {\"text\": \"Decorate with iconic superhero logos and projections of Gotham and other superhero cities around the venue.\", \"source\": \"Decoration Ideas\"},\n",
    "    {\"text\": \"Interactive experiences with VR where guests can engage in superhero simulations or compete in themed games.\", \"source\": \"Entertainment Ideas\"}\n",
    "]\n",
    "\n",
    "source_docs = [\n",
    "    Document(page_content=doc[\"text\"], metadata={\"source\": doc[\"source\"]})\n",
    "    for doc in party_ideas\n",
    "]\n",
    "\n",
    "# Split the documents into smaller chunks for more efficient search\n",
    "text_splitter = RecursiveCharacterTextSplitter(\n",
    "    chunk_size=500,\n",
    "    chunk_overlap=50,\n",
    "    add_start_index=True,\n",
    "    strip_whitespace=True,\n",
    "    separators=[\"\\n\\n\", \"\\n\", \".\", \" \", \"\"],\n",
    ")\n",
    "docs_processed = text_splitter.split_documents(source_docs)\n",
    "\n",
    "# Create the retriever tool\n",
    "party_planning_retriever = PartyPlanningRetrieverTool(docs_processed)\n",
    "\n",
    "# Initialize the agent\n",
    "if not lite_model:\n",
    "    raise ValueError(\"Run cell near top of notebook to ensure lite_model instance\")\n",
    "\n",
    "agent = CodeAgent(tools=[party_planning_retriever], model=lite_model)\n",
    "\n",
    "# Example usage\n",
    "response = agent.run(\n",
    "    \"Find ideas for a luxury superhero-themed party, including entertainment, catering, and decoration options.\"\n",
    ")\n",
    "\n",
    "print(response)"
   ]
  },
  {
   "cell_type": "markdown",
   "metadata": {
    "id": "uMENl0QaalSd"
   },
   "source": [
    "This enhanced agent can:\n",
    "1. First check the documentation for relevant information\n",
    "2. Combine insights from the knowledge base\n",
    "3. Maintain conversation context through memory"
   ]
  }
 ],
 "metadata": {
  "colab": {
   "provenance": []
  },
  "kernelspec": {
   "display_name": "hfenv",
   "language": "python",
   "name": "hfenv"
  },
  "language_info": {
   "codemirror_mode": {
    "name": "ipython",
    "version": 3
   },
   "file_extension": ".py",
   "mimetype": "text/x-python",
   "name": "python",
   "nbconvert_exporter": "python",
   "pygments_lexer": "ipython3",
   "version": "3.12.10"
  }
 },
 "nbformat": 4,
 "nbformat_minor": 4
}
